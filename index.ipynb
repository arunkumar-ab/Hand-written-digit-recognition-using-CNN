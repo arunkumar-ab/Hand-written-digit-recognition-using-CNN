{
 "cells": [
  {
   "cell_type": "code",
   "execution_count": 1,
   "metadata": {},
   "outputs": [
    {
     "ename": "ModuleNotFoundError",
     "evalue": "No module named 'tensorflow'",
     "output_type": "error",
     "traceback": [
      "\u001b[1;31m---------------------------------------------------------------------------\u001b[0m",
      "\u001b[1;31mModuleNotFoundError\u001b[0m                       Traceback (most recent call last)",
      "\u001b[1;32mc:\\Users\\abaru\\Documents\\data mining j comp\\Handwritten-Digit-Prediction\\index.ipynb Cell 1'\u001b[0m in \u001b[0;36m<cell line: 2>\u001b[1;34m()\u001b[0m\n\u001b[0;32m      <a href='vscode-notebook-cell:/c%3A/Users/abaru/Documents/data%20mining%20j%20comp/Handwritten-Digit-Prediction/index.ipynb#ch0000000?line=0'>1</a>\u001b[0m \u001b[39mimport\u001b[39;00m \u001b[39mnumpy\u001b[39;00m\n\u001b[1;32m----> <a href='vscode-notebook-cell:/c%3A/Users/abaru/Documents/data%20mining%20j%20comp/Handwritten-Digit-Prediction/index.ipynb#ch0000000?line=1'>2</a>\u001b[0m \u001b[39mfrom\u001b[39;00m \u001b[39mkeras\u001b[39;00m\u001b[39m.\u001b[39;00m\u001b[39mdatasets\u001b[39;00m \u001b[39mimport\u001b[39;00m mnist\n\u001b[0;32m      <a href='vscode-notebook-cell:/c%3A/Users/abaru/Documents/data%20mining%20j%20comp/Handwritten-Digit-Prediction/index.ipynb#ch0000000?line=2'>3</a>\u001b[0m \u001b[39mfrom\u001b[39;00m \u001b[39mkeras\u001b[39;00m\u001b[39m.\u001b[39;00m\u001b[39mmodels\u001b[39;00m \u001b[39mimport\u001b[39;00m Sequential\n\u001b[0;32m      <a href='vscode-notebook-cell:/c%3A/Users/abaru/Documents/data%20mining%20j%20comp/Handwritten-Digit-Prediction/index.ipynb#ch0000000?line=3'>4</a>\u001b[0m \u001b[39mfrom\u001b[39;00m \u001b[39mkeras\u001b[39;00m\u001b[39m.\u001b[39;00m\u001b[39mlayers\u001b[39;00m \u001b[39mimport\u001b[39;00m Dense\n",
      "File \u001b[1;32mc:\\Users\\abaru\\Documents\\data mining j comp\\Handwritten-Digit-Prediction\\venv\\lib\\site-packages\\keras\\__init__.py:21\u001b[0m, in \u001b[0;36m<module>\u001b[1;34m\u001b[0m\n\u001b[0;32m     <a href='file:///c%3A/Users/abaru/Documents/data%20mining%20j%20comp/Handwritten-Digit-Prediction/venv/lib/site-packages/keras/__init__.py?line=14'>15</a>\u001b[0m \u001b[39m\"\"\"Implementation of the Keras API, the high-level API of TensorFlow.\u001b[39;00m\n\u001b[0;32m     <a href='file:///c%3A/Users/abaru/Documents/data%20mining%20j%20comp/Handwritten-Digit-Prediction/venv/lib/site-packages/keras/__init__.py?line=15'>16</a>\u001b[0m \n\u001b[0;32m     <a href='file:///c%3A/Users/abaru/Documents/data%20mining%20j%20comp/Handwritten-Digit-Prediction/venv/lib/site-packages/keras/__init__.py?line=16'>17</a>\u001b[0m \u001b[39mDetailed documentation and user guides are available at\u001b[39;00m\n\u001b[0;32m     <a href='file:///c%3A/Users/abaru/Documents/data%20mining%20j%20comp/Handwritten-Digit-Prediction/venv/lib/site-packages/keras/__init__.py?line=17'>18</a>\u001b[0m \u001b[39m[keras.io](https://keras.io).\u001b[39;00m\n\u001b[0;32m     <a href='file:///c%3A/Users/abaru/Documents/data%20mining%20j%20comp/Handwritten-Digit-Prediction/venv/lib/site-packages/keras/__init__.py?line=18'>19</a>\u001b[0m \u001b[39m\"\"\"\u001b[39;00m\n\u001b[0;32m     <a href='file:///c%3A/Users/abaru/Documents/data%20mining%20j%20comp/Handwritten-Digit-Prediction/venv/lib/site-packages/keras/__init__.py?line=19'>20</a>\u001b[0m \u001b[39m# pylint: disable=unused-import\u001b[39;00m\n\u001b[1;32m---> <a href='file:///c%3A/Users/abaru/Documents/data%20mining%20j%20comp/Handwritten-Digit-Prediction/venv/lib/site-packages/keras/__init__.py?line=20'>21</a>\u001b[0m \u001b[39mfrom\u001b[39;00m \u001b[39mtensorflow\u001b[39;00m\u001b[39m.\u001b[39;00m\u001b[39mpython\u001b[39;00m \u001b[39mimport\u001b[39;00m tf2\n\u001b[0;32m     <a href='file:///c%3A/Users/abaru/Documents/data%20mining%20j%20comp/Handwritten-Digit-Prediction/venv/lib/site-packages/keras/__init__.py?line=21'>22</a>\u001b[0m \u001b[39mfrom\u001b[39;00m \u001b[39mkeras\u001b[39;00m \u001b[39mimport\u001b[39;00m distribute\n\u001b[0;32m     <a href='file:///c%3A/Users/abaru/Documents/data%20mining%20j%20comp/Handwritten-Digit-Prediction/venv/lib/site-packages/keras/__init__.py?line=23'>24</a>\u001b[0m \u001b[39m# See b/110718070#comment18 for more details about this import.\u001b[39;00m\n",
      "\u001b[1;31mModuleNotFoundError\u001b[0m: No module named 'tensorflow'"
     ]
    }
   ],
   "source": [
    "import numpy\n",
    "from keras.datasets import mnist\n",
    "from keras.models import Sequential\n",
    "from keras.layers import Dense\n",
    "from keras.layers import Dropout\n",
    "from keras.layers import Flatten\n",
    "from keras.layers.convolutional import Conv2D\n",
    "from keras.layers.convolutional import MaxPooling2D\n",
    "from keras.optimizers import Adam\n",
    "from keras.utils import np_utils"
   ]
  },
  {
   "cell_type": "code",
   "execution_count": null,
   "metadata": {},
   "outputs": [],
   "source": [
    "# load data\n",
    "(X_train, y_train), (X_test, y_test) = mnist.load_data()"
   ]
  },
  {
   "cell_type": "code",
   "execution_count": null,
   "metadata": {},
   "outputs": [],
   "source": [
    "# Reshaping to format which CNN expects (batch, height, width, channels)\n",
    "X_train = X_train.reshape(X_train.shape[0], X_train.shape[1], X_train.shape[2], 1).astype('float32')\n",
    "X_test = X_test.reshape(X_test.shape[0], X_test.shape[1], X_test.shape[2], 1).astype('float32')"
   ]
  },
  {
   "cell_type": "code",
   "execution_count": null,
   "metadata": {},
   "outputs": [],
   "source": [
    "# normalize inputs from 0-255 to 0-1\n",
    "X_train/=255\n",
    "X_test/=255"
   ]
  },
  {
   "cell_type": "code",
   "execution_count": null,
   "metadata": {},
   "outputs": [],
   "source": [
    "# one hot encode\n",
    "number_of_classes = 10\n",
    "y_train = np_utils.to_categorical(y_train, number_of_classes)\n",
    "y_test = np_utils.to_categorical(y_test, number_of_classes)"
   ]
  },
  {
   "cell_type": "code",
   "execution_count": null,
   "metadata": {},
   "outputs": [],
   "source": [
    "# create model\n",
    "model = Sequential()\n",
    "model.add(Conv2D(32, (5, 5), input_shape=(X_train.shape[1], X_train.shape[2], 1), activation='relu'))\n",
    "model.add(MaxPooling2D(pool_size=(2, 2)))\n",
    "model.add(Conv2D(32, (3, 3), activation='relu'))\n",
    "model.add(MaxPooling2D(pool_size=(2, 2)))\n",
    "model.add(Dropout(0.2))\n",
    "model.add(Flatten())\n",
    "model.add(Dense(128, activation='relu'))\n",
    "model.add(Dense(number_of_classes, activation='softmax'))"
   ]
  },
  {
   "cell_type": "code",
   "execution_count": null,
   "metadata": {},
   "outputs": [],
   "source": [
    "# Compile model\n",
    "model.compile(loss='categorical_crossentropy', optimizer=Adam(), metrics=['accuracy'])"
   ]
  },
  {
   "cell_type": "code",
   "execution_count": null,
   "metadata": {},
   "outputs": [
    {
     "name": "stdout",
     "output_type": "stream",
     "text": [
      "Epoch 1/10\n",
      "300/300 [==============================] - 16s 52ms/step - loss: 0.2968 - accuracy: 0.9126 - val_loss: 0.0707 - val_accuracy: 0.9785\n",
      "Epoch 2/10\n",
      "300/300 [==============================] - 14s 46ms/step - loss: 0.0808 - accuracy: 0.9746 - val_loss: 0.0431 - val_accuracy: 0.9873\n",
      "Epoch 3/10\n",
      "300/300 [==============================] - 15s 51ms/step - loss: 0.0558 - accuracy: 0.9823 - val_loss: 0.0346 - val_accuracy: 0.9897\n",
      "Epoch 4/10\n",
      "300/300 [==============================] - 15s 49ms/step - loss: 0.0451 - accuracy: 0.9864 - val_loss: 0.0334 - val_accuracy: 0.9893\n",
      "Epoch 5/10\n",
      "300/300 [==============================] - 15s 50ms/step - loss: 0.0376 - accuracy: 0.9883 - val_loss: 0.0278 - val_accuracy: 0.9904\n",
      "Epoch 6/10\n",
      "300/300 [==============================] - 15s 49ms/step - loss: 0.0324 - accuracy: 0.9902 - val_loss: 0.0281 - val_accuracy: 0.9906\n",
      "Epoch 7/10\n",
      "300/300 [==============================] - 15s 51ms/step - loss: 0.0285 - accuracy: 0.9907 - val_loss: 0.0238 - val_accuracy: 0.9918\n",
      "Epoch 8/10\n",
      "300/300 [==============================] - 14s 46ms/step - loss: 0.0250 - accuracy: 0.9919 - val_loss: 0.0264 - val_accuracy: 0.9908\n",
      "Epoch 9/10\n",
      "300/300 [==============================] - 13s 45ms/step - loss: 0.0232 - accuracy: 0.9927 - val_loss: 0.0229 - val_accuracy: 0.9924\n",
      "Epoch 10/10\n",
      "300/300 [==============================] - 14s 45ms/step - loss: 0.0198 - accuracy: 0.9935 - val_loss: 0.0249 - val_accuracy: 0.9922\n"
     ]
    },
    {
     "data": {
      "text/plain": [
       "<keras.callbacks.History at 0x221f9050190>"
      ]
     },
     "execution_count": 16,
     "metadata": {},
     "output_type": "execute_result"
    }
   ],
   "source": [
    "# Fit the model\n",
    "model.fit(X_train, y_train, validation_data=(X_test, y_test), epochs=10, batch_size=200)"
   ]
  },
  {
   "cell_type": "code",
   "execution_count": null,
   "metadata": {},
   "outputs": [],
   "source": [
    "# Save the model\n",
    "model.save('models/mnistCNN.h5')"
   ]
  },
  {
   "cell_type": "code",
   "execution_count": null,
   "metadata": {},
   "outputs": [
    {
     "name": "stdout",
     "output_type": "stream",
     "text": [
      "WARNING:tensorflow:From C:\\Users\\abaru\\AppData\\Local\\Programs\\Python\\Python310\\lib\\site-packages\\tensorflow\\python\\eager\\function.py:113: TypeSpec.most_specific_compatible_type (from tensorflow.python.framework.type_spec) is deprecated and will be removed in a future version.\n",
      "Instructions for updating:\n",
      "Use most_specific_common_supertype instead.\n",
      "Metrics(Test loss & Test Accuracy): \n",
      "[0.024882394820451736, 0.9922000169754028]\n"
     ]
    }
   ],
   "source": [
    "# Final evaluation of the model\n",
    "metrics = model.evaluate(X_test, y_test, verbose=0)\n",
    "print(\"Metrics(Test loss & Test Accuracy): \")\n",
    "print(metrics)"
   ]
  },
  {
   "cell_type": "code",
   "execution_count": null,
   "metadata": {},
   "outputs": [],
   "source": []
  }
 ],
 "metadata": {
  "kernelspec": {
   "display_name": "Python 3",
   "language": "python",
   "name": "python3"
  },
  "language_info": {
   "codemirror_mode": {
    "name": "ipython",
    "version": 3
   },
   "file_extension": ".py",
   "mimetype": "text/x-python",
   "name": "python",
   "nbconvert_exporter": "python",
   "pygments_lexer": "ipython3",
   "version": "3.10.3"
  }
 },
 "nbformat": 4,
 "nbformat_minor": 4
}
